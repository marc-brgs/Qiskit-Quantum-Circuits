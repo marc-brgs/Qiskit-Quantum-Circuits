{
 "cells": [
  {
   "cell_type": "code",
   "execution_count": 1,
   "id": "4903bcc5",
   "metadata": {},
   "outputs": [],
   "source": [
    "# On fait les imports"
   ]
  },
  {
   "cell_type": "code",
   "execution_count": 2,
   "id": "8620c941",
   "metadata": {},
   "outputs": [],
   "source": [
    "import numpy as np\n",
    "from qiskit import *\n",
    "from qiskit import Aer\n",
    "from qiskit.visualization import plot_histogram, plot_state_city\n",
    "from qiskit_ibm_runtime import QiskitRuntimeService, Estimator, Options"
   ]
  },
  {
   "cell_type": "code",
   "execution_count": 3,
   "id": "d7357e21",
   "metadata": {},
   "outputs": [],
   "source": [
    "# On créé 2 qubits"
   ]
  },
  {
   "cell_type": "code",
   "execution_count": 4,
   "id": "8c18d3b7",
   "metadata": {},
   "outputs": [],
   "source": [
    "circ = QuantumCircuit(2)"
   ]
  },
  {
   "cell_type": "code",
   "execution_count": 5,
   "id": "94a506f6",
   "metadata": {},
   "outputs": [],
   "source": [
    "# On applique la porte Hadamard sur les deux"
   ]
  },
  {
   "cell_type": "code",
   "execution_count": 6,
   "id": "92f82cb0",
   "metadata": {},
   "outputs": [
    {
     "data": {
      "text/plain": [
       "<qiskit.circuit.instructionset.InstructionSet at 0x1cc0bd00400>"
      ]
     },
     "execution_count": 6,
     "metadata": {},
     "output_type": "execute_result"
    }
   ],
   "source": [
    "circ.h(0)\n",
    "circ.h(1)"
   ]
  },
  {
   "cell_type": "code",
   "execution_count": 7,
   "id": "bf60064d",
   "metadata": {},
   "outputs": [
    {
     "data": {
      "image/png": "[encoded data removed]",
      "text/plain": [
       "<Figure size 203.683x200.667 with 1 Axes>"
      ]
     },
     "execution_count": 7,
     "metadata": {},
     "output_type": "execute_result"
    }
   ],
   "source": [
    "circ.draw('mpl')"
   ]
  },
  {
   "cell_type": "code",
   "execution_count": 8,
   "id": "5b41396e",
   "metadata": {},
   "outputs": [
    {
     "data": {
      "text/plain": [
       "<qiskit.circuit.instructionset.InstructionSet at 0x1cb8cd35690>"
      ]
     },
     "execution_count": 8,
     "metadata": {},
     "output_type": "execute_result"
    }
   ],
   "source": [
    "circ.barrier()"
   ]
  },
  {
   "cell_type": "code",
   "execution_count": 9,
   "id": "77c61212",
   "metadata": {},
   "outputs": [],
   "source": [
    "# On fait l'oracle"
   ]
  },
  {
   "cell_type": "code",
   "execution_count": 10,
   "id": "e0d47c2b",
   "metadata": {},
   "outputs": [
    {
     "data": {
      "text/plain": [
       "<qiskit.circuit.instructionset.InstructionSet at 0x1cc0db13d60>"
      ]
     },
     "execution_count": 10,
     "metadata": {},
     "output_type": "execute_result"
    }
   ],
   "source": [
    "circ.x(0)\n",
    "circ.cz(0,1)\n",
    "circ.x(0)"
   ]
  },
  {
   "cell_type": "code",
   "execution_count": 11,
   "id": "73bf8c98",
   "metadata": {},
   "outputs": [
    {
     "data": {
      "image/png": "[encoded data removed]",
      "text/plain": [
       "<Figure size 538.128x200.667 with 1 Axes>"
      ]
     },
     "execution_count": 11,
     "metadata": {},
     "output_type": "execute_result"
    }
   ],
   "source": [
    "circ.draw('mpl')"
   ]
  },
  {
   "cell_type": "code",
   "execution_count": 12,
   "id": "a52e1bdf",
   "metadata": {},
   "outputs": [],
   "source": [
    "# Maintenant le diffuseur"
   ]
  },
  {
   "cell_type": "code",
   "execution_count": 13,
   "id": "b8df2043",
   "metadata": {},
   "outputs": [
    {
     "data": {
      "text/plain": [
       "<qiskit.circuit.instructionset.InstructionSet at 0x1cc0db520b0>"
      ]
     },
     "execution_count": 13,
     "metadata": {},
     "output_type": "execute_result"
    }
   ],
   "source": [
    "circ.barrier()\n",
    "circ.h(0)\n",
    "circ.h(1)\n",
    "circ.z(0)\n",
    "circ.z(1)\n",
    "circ.cz(0,1)\n",
    "circ.h(0)\n",
    "circ.h(1)"
   ]
  },
  {
   "cell_type": "code",
   "execution_count": 14,
   "id": "9741d934",
   "metadata": {},
   "outputs": [
    {
     "data": {
      "image/png": "[encoded data removed]",
      "text/plain": [
       "<Figure size 956.183x200.667 with 1 Axes>"
      ]
     },
     "execution_count": 14,
     "metadata": {},
     "output_type": "execute_result"
    }
   ],
   "source": [
    "circ.draw('mpl')"
   ]
  },
  {
   "cell_type": "code",
   "execution_count": 15,
   "id": "fcca128b",
   "metadata": {},
   "outputs": [],
   "source": [
    "# On mesure les valeurs"
   ]
  },
  {
   "cell_type": "code",
   "execution_count": 16,
   "id": "c4a376d6",
   "metadata": {},
   "outputs": [],
   "source": [
    "res = QuantumCircuit(2)\n",
    "res.measure_all()"
   ]
  },
  {
   "cell_type": "code",
   "execution_count": null,
   "id": "4042a3b1",
   "metadata": {},
   "outputs": [],
   "source": []
  }
 ],
 "metadata": {
  "kernelspec": {
   "display_name": "Python 3 (ipykernel)",
   "language": "python",
   "name": "python3"
  },
  "language_info": {
   "codemirror_mode": {
    "name": "ipython",
    "version": 3
   },
   "file_extension": ".py",
   "mimetype": "text/x-python",
   "name": "python",
   "nbconvert_exporter": "python",
   "pygments_lexer": "ipython3",
   "version": "3.11.5"
  }
 },
 "nbformat": 4,
 "nbformat_minor": 5
}
